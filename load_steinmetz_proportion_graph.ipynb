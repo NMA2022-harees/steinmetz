{
  "cells": [
    {
      "cell_type": "markdown",
      "metadata": {
        "execution": {},
        "id": "6X4x-6bI4W-1"
      },
      "source": [
        "## Loading of Steinmetz data\n",
        "\n",
        "includes some visualizations"
      ]
    },
    {
      "cell_type": "code",
      "execution_count": 2,
      "metadata": {
        "execution": {},
        "id": "FeijwgMT4W-5"
      },
      "outputs": [],
      "source": [
        "import numpy as np\n",
        "import matplotlib.pyplot as plt\n",
        "import seaborn as sns\n",
        "from scipy.stats import zscore\n",
        "from sklearn.decomposition import PCA\n",
        "from statsmodels.formula.api import ols\n",
        "import pandas as pd"
      ]
    },
    {
      "cell_type": "code",
      "execution_count": 3,
      "metadata": {},
      "outputs": [],
      "source": [
        "from util import fetch_data_if_not_exist\n",
        "\n",
        "files = [f\"steinmetz_part{i}.npz\" for i in range(3)]\n",
        "urls = [\n",
        "    \"https://osf.io/agvxh/download\",\n",
        "    \"https://osf.io/uv3mw/download\",\n",
        "    \"https://osf.io/ehmw2/download\",\n",
        "]\n",
        "\n",
        "for file_name, url in zip(files, urls):\n",
        "    fetch_data_if_not_exist(file_name, url)"
      ]
    },
    {
      "cell_type": "code",
      "execution_count": 4,
      "metadata": {
        "cellView": "form",
        "execution": {},
        "id": "Lt09CVEG4W-7"
      },
      "outputs": [],
      "source": [
        "# @title Data loading\n",
        "alldata = np.array([])\n",
        "for file in files:\n",
        "    data = np.load(file, allow_pickle=True)[\"dat\"] # np.load(file).files = [\"dat\"]\n",
        "    alldata = np.hstack((alldata, data))\n",
        "n_alldata = len(alldata)"
      ]
    },
    {
      "cell_type": "code",
      "execution_count": 63,
      "metadata": {},
      "outputs": [
        {
          "data": {
            "text/plain": [
              "<matplotlib.legend.Legend at 0x1249c9eb0>"
            ]
          },
          "execution_count": 63,
          "metadata": {},
          "output_type": "execute_result"
        },
        {
          "data": {
            "image/png": "[encoded data removed]",
            "text/plain": [
              "<Figure size 720x360 with 1 Axes>"
            ]
          },
          "metadata": {
            "needs_background": "light"
          },
          "output_type": "display_data"
        }
      ],
      "source": [
        "np.random.seed(2022)\n",
        "\n",
        "mice_name = []\n",
        "type_amount = np.array\n",
        "\n",
        "non_ecd_amount, ecd_one_amount, ecd_two_amount, ecd_thr_amount, ecd_four_amount = [[] for x in range(5)]\n",
        "\n",
        "for session in range(39):\n",
        "\n",
        "    dat = alldata[session]\n",
        "    mouse_name = dat['mouse_name']\n",
        "    neurons_amount = len(dat['spks'])\n",
        "        \n",
        "    encoding_one, encoding_two, encoding_three, encoding_four = [0 for x in range(4)]\n",
        "\n",
        "    # the index of each session [format: 1-d np.array, the index of neuron in the certain session]\n",
        "    visual_index = np.random.randint(0, neurons_amount, np.random.randint(0, 300, 1))\n",
        "    action_index = np.random.randint(0, neurons_amount, np.random.randint(0, 200, 1))  \n",
        "    choice_index = np.random.randint(0, neurons_amount, np.random.randint(0, 150, 1))\n",
        "    reward_index = np.random.randint(0, neurons_amount, np.random.randint(0, 200, 1))\n",
        "\n",
        "    # the amount of each type of neurons\n",
        "    all_encoding = list(np.concatenate([visual_index, action_index, choice_index, reward_index], axis = None))\n",
        "    counter = [[x, all_encoding.count(x)] for x in set(all_encoding)]\n",
        "    for l in counter:\n",
        "        if l[1] == 1:\n",
        "            encoding_one += 1\n",
        "        elif l[1] == 2:\n",
        "            encoding_two += 1\n",
        "        elif l[1] == 3:\n",
        "            encoding_three += 1\n",
        "        elif l[1] == 4:\n",
        "            encoding_four += 1\n",
        "\n",
        "    non_encoding = len(set(range(neurons_amount))-set(all_encoding))\n",
        "\n",
        "    if mouse_name in mice_name:\n",
        "        non_ecd_amount[-1] += non_encoding\n",
        "        ecd_one_amount[-1] += encoding_one\n",
        "        ecd_two_amount[-1] += encoding_two\n",
        "        ecd_thr_amount[-1] += encoding_three\n",
        "        ecd_four_amount[-1] += encoding_four\n",
        "    else:\n",
        "        mice_name.append(mouse_name)\n",
        "        non_ecd_amount.append(non_encoding)\n",
        "        ecd_one_amount.append(encoding_one)\n",
        "        ecd_two_amount.append(encoding_two)\n",
        "        ecd_thr_amount.append(encoding_three)\n",
        "        ecd_four_amount.append(encoding_four)\n",
        "            \n",
        "# cauculate the proportion\n",
        "for i in range(len(non_ecd_amount)):\n",
        "    ttl = non_ecd_amount[i] + ecd_one_amount[i] + ecd_two_amount[i] + ecd_thr_amount[i] + ecd_four_amount[i]\n",
        "    non_ecd_amount[i] /= ttl  \n",
        "    ecd_one_amount[i] /= ttl\n",
        "    ecd_two_amount[i] /= ttl\n",
        "    ecd_thr_amount[i] /= ttl\n",
        "    ecd_four_amount[i] /= ttl\n",
        "\n",
        "plt.figure(figsize=(10,5))\n",
        "x = np.arange(len(mice_name)) \n",
        "width = 0.18 \n",
        "plt.bar(x - 2 * width, non_ecd_amount, width, label='0')\n",
        "plt.bar(x - width, ecd_one_amount, width, label='1')\n",
        "plt.bar(x , ecd_two_amount, width, label='2')\n",
        "plt.bar(x + width, ecd_thr_amount, width, label='3')\n",
        "plt.bar(x + 2 * width, ecd_four_amount, width, label='4')\n",
        "plt.ylabel('Proportion(%)')\n",
        "# plt.title('Proportion of each type of neurons')\n",
        "plt.xticks(x, labels=mice_name)\n",
        "plt.legend()"
      ]
    },
    {
      "cell_type": "markdown",
      "metadata": {
        "execution": {},
        "id": "IneEn1WP4W-8"
      },
      "source": [
        "`alldat` contains 39 sessions from 10 mice, data from Steinmetz et al, 2019. Time bins for all measurements are 10ms, starting 500ms before stimulus onset. The mouse had to determine which side has the highest contrast. For each `dat = alldat[k]`, you have the fields below. For extra variables, check out the extra notebook and extra data files (lfp, waveforms and exact spike times, non-binned). \n",
        "\n",
        "* `dat['mouse_name']`: mouse name\n",
        "* `dat['date_exp']`: when a session was performed\n",
        "* `dat['spks']`: neurons by trials by time bins.    \n",
        "* `dat['brain_area']`: brain area for each neuron recorded. \n",
        "* `dat['ccf']`: Allen Institute brain atlas coordinates for each neuron. \n",
        "* `dat['ccf_axes']`: axes names for the Allen CCF. \n",
        "* `dat['contrast_right']`: contrast level for the right stimulus, which is always contralateral to the recorded brain areas.\n",
        "* `dat['contrast_left']`: contrast level for left stimulus. \n",
        "* `dat['gocue']`: when the go cue sound was played. \n",
        "* `dat['response_time']`: when the response was registered, which has to be after the go cue. The mouse can turn the wheel before the go cue (and nearly always does!), but the stimulus on the screen won't move before the go cue.  \n",
        "* `dat['response']`: which side the response was (`-1`, `0`, `1`). When the right-side stimulus had higher contrast, the correct choice was `-1`. `0` is a no go response. \n",
        "* `dat['feedback_time']`: when feedback was provided. \n",
        "* `dat['feedback_type']`: if the feedback was positive (`+1`, reward) or negative (`-1`, white noise burst).  \n",
        "* `dat['wheel']`: turning speed of the wheel that the mice uses to make a response, sampled at `10ms`. \n",
        "* `dat['pupil']`: pupil area  (noisy, because pupil is very small) + pupil horizontal and vertical position.\n",
        "* `dat['face']`: average face motion energy from a video camera. \n",
        "* `dat['licks']`: lick detections, 0 or 1.   \n",
        "* `dat['trough_to_peak']`: measures the width of the action potential waveform for each neuron. Widths `<=10` samples are \"putative fast spiking neurons\". \n",
        "* `dat['%X%_passive']`: same as above for `X` = {`spks`, `pupil`, `wheel`, `contrast_left`, `contrast_right`} but for  passive trials at the end of the recording when the mouse was no longer engaged and stopped making responses. \n",
        "* `dat['prev_reward']`: time of the feedback (reward/white noise) on the previous trial in relation to the current stimulus time. \n",
        "* `dat['reaction_time']`: ntrials by 2. First column: reaction time computed from the wheel movement as the first sample above `5` ticks/10ms bin. Second column: direction of the wheel movement (`0` = no move detected).  \n",
        "\n",
        "\n",
        "The original dataset is here: https://figshare.com/articles/dataset/Dataset_from_Steinmetz_et_al_2019/9598406"
      ]
    }
  ],
  "metadata": {
    "colab": {
      "collapsed_sections": [],
      "name": "load_steinmetz_decisions",
      "provenance": [],
      "toc_visible": true
    },
    "kernel": {
      "display_name": "Python 3",
      "language": "python",
      "name": "python3"
    },
    "kernelspec": {
      "display_name": "Python 3.8.9 ('venv': venv)",
      "language": "python",
      "name": "python3"
    },
    "language_info": {
      "codemirror_mode": {
        "name": "ipython",
        "version": 3
      },
      "file_extension": ".py",
      "mimetype": "text/x-python",
      "name": "python",
      "nbconvert_exporter": "python",
      "pygments_lexer": "ipython3",
      "version": "3.8.9"
    },
    "vscode": {
      "interpreter": {
        "hash": "70fe545e62ca0b3974ba991c573d80a0468633316dc488c9bdbc4c3b08890143"
      }
    }
  },
  "nbformat": 4,
  "nbformat_minor": 0
}
