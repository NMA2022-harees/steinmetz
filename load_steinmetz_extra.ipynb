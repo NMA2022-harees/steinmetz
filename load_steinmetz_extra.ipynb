{
  "cells": [
    {
      "cell_type": "markdown",
      "metadata": {
        "execution": {},
        "id": "VxNUMOzB4Tp3"
      },
      "source": [
        "## Loading of Steinmetz data\n",
        "\n",
        "includes some visualizations"
      ]
    },
    {
      "cell_type": "code",
      "execution_count": 1,
      "metadata": {
        "execution": {},
        "id": "b1JxcTHz4Tp8"
      },
      "outputs": [],
      "source": [
        "import numpy as np\n"
      ]
    },
    {
      "cell_type": "code",
      "execution_count": 2,
      "metadata": {
        "cellView": "form",
        "execution": {},
        "id": "o-Z58EZf4Tp-"
      },
      "outputs": [],
      "source": [
        "# @title Data retrievalい\n",
        "from fetch_data import fetch_data_if_not_exist\n",
        "\n",
        "files = [\"steinmetz_st.npz\", \"steinmetz_wav.npz\", \"steinmetz_lfp.npz\"]\n",
        "urls = [\n",
        "    \"https://osf.io/4bjns/download\",\n",
        "    \"https://osf.io/ugm9v/download\",\n",
        "    \"https://osf.io/kx3v9/download\",\n",
        "]\n",
        "\n",
        "for file_name, url in zip(files, urls):\n",
        "    fetch_data_if_not_exist(file_name, url)"
      ]
    },
    {
      "cell_type": "code",
      "execution_count": 3,
      "metadata": {
        "cellView": "form",
        "execution": {},
        "id": "jLBB7cUL4Tp_",
        "outputId": "87348736-08d6-43db-de68-84a8cd418620"
      },
      "outputs": [
        {
          "name": "stdout",
          "output_type": "stream",
          "text": [
            "dict_keys(['lfp', 'lfp_passive', 'brain_area_lfp'])\n",
            "dict_keys(['waveform_w', 'waveform_u', 'trough_to_peak'])\n",
            "dict_keys(['ss', 'ss_passive'])\n"
          ]
        }
      ],
      "source": [
        "# @title Data loading\n",
        "\n",
        "dat_LFP = np.load(\"steinmetz_lfp.npz\", allow_pickle=True)[\"dat\"]\n",
        "dat_WAV = np.load(\"steinmetz_wav.npz\", allow_pickle=True)[\"dat\"]\n",
        "dat_ST = np.load(\"steinmetz_st.npz\", allow_pickle=True)[\"dat\"]\n",
        "\n",
        "# select just one of the recordings here. 11 is nice because it has some neurons in vis ctx.\n",
        "dat = dat_LFP[11]\n",
        "print(dat.keys())\n",
        "dat = dat_WAV[11]\n",
        "print(dat.keys())\n",
        "dat = dat_ST[11]\n",
        "print(dat.keys())\n"
      ]
    },
    {
      "cell_type": "code",
      "execution_count": 12,
      "metadata": {},
      "outputs": [
        {
          "name": "stdout",
          "output_type": "stream",
          "text": [
            "(12, 340, 250)\n",
            "(12, 110, 250)\n",
            "['DG', 'LGd', 'SUB', 'VISp', 'ACA', 'MOs', 'PL', 'CA1', 'DG', 'LH', 'MD', 'VISam']\n"
          ]
        }
      ],
      "source": [
        "print(dat_LFP[11]['lfp'].shape)\n",
        "print(dat_LFP[11]['lfp_passive'].shape)\n",
        "print(dat_LFP[11]['brain_area_lfp'])"
      ]
    },
    {
      "cell_type": "markdown",
      "metadata": {
        "execution": {},
        "id": "pgrtSvdg4TqA"
      },
      "source": [
        "`dat_LFP`, `dat_WAV`, `dat_ST` contain 39 sessions from 10 mice, data from Steinmetz et al, 2019, supplemental to the main data provided for NMA. Time bins for all measurements are 10ms, starting 500ms before stimulus onset (same as the main data). The followin fields are available across the three supplemental files. \n",
        "\n",
        "* `dat['lfp']`: recording of the local field potential in each brain area from this experiment, binned at `10ms`.\n",
        "* `dat['brain_area_lfp']`: brain area names for the LFP channels. \n",
        "* `dat['trough_to_peak']`: measures the width of the action potential waveform for each neuron. Widths `<=10` samples are \"putative fast spiking neurons\". \n",
        "* `dat['waveform_w']`: temporal components of spike waveforms. `w@u` reconstructs the time by channels action potential shape. \n",
        "* `dat['waveform_u]`: spatial components of spike waveforms.\n",
        "* `dat['ss']`: neurons by trials. Exact spikes times for each neuron and each trial, reference to the stimulus onset. A (neuron,trial) entry can be an empty list if that neuron did not fire at all on that trial. \n",
        "* `dat['%X%_passive']`: same as above for `X` = {`lfp`, `ss`} but for  passive trials at the end of the recording when the mouse was no longer engaged and stopped making responses. \n",
        "\n",
        "\n"
      ]
    }
  ],
  "metadata": {
    "colab": {
      "collapsed_sections": [],
      "name": "load_steinmetz_extra",
      "provenance": [],
      "toc_visible": true
    },
    "kernel": {
      "display_name": "Python 3",
      "language": "python",
      "name": "python3"
    },
    "kernelspec": {
      "display_name": "Python 3.10.5 ('venv': venv)",
      "language": "python",
      "name": "python3"
    },
    "language_info": {
      "codemirror_mode": {
        "name": "ipython",
        "version": 3
      },
      "file_extension": ".py",
      "mimetype": "text/x-python",
      "name": "python",
      "nbconvert_exporter": "python",
      "pygments_lexer": "ipython3",
      "version": "3.10.5"
    },
    "vscode": {
      "interpreter": {
        "hash": "2b097c497e729732959263fc39b59b2bbaf80af7f419196a87e76b174e7093f8"
      }
    }
  },
  "nbformat": 4,
  "nbformat_minor": 0
}
